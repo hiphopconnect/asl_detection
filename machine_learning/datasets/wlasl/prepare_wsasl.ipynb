{
 "cells": [
  {
   "cell_type": "code",
   "execution_count": null,
   "id": "import-modules",
   "metadata": {},
   "outputs": [],
   "source": [
    "import os\n",
    "import json\n",
    "import time\n",
    "import sys\n",
    "import urllib.request\n",
    "from multiprocessing.dummy import Pool\n",
    "import random\n",
    "import logging\n",
    "\n",
    "logging.basicConfig(filename='download_{}.log'.format(int(time.time())), filemode='w', level=logging.DEBUG)\n",
    "logging.getLogger().addHandler(logging.StreamHandler(sys.stdout))\n",
    "\n",
    "# Set this to youtube-dl if you want to use youtube-dl.\n",
    "youtube_downloader = \"yt-dlp\""
   ]
  },
  {
   "cell_type": "code",
   "execution_count": null,
   "id": "request-video",
   "metadata": {},
   "outputs": [],
   "source": [
    "def request_video(url, referer=''):\n",
    "    user_agent = 'Mozilla/5.0 (Windows; U; Windows NT 5.1; en-US; rv:1.9.0.7) Gecko/2009021910 Firefox/3.0.7'\n",
    "    headers = {'User-Agent': user_agent} \n",
    "    if referer:\n",
    "        headers['Referer'] = referer\n",
    "    request = urllib.request.Request(url, None, headers)\n",
    "    logging.info('Requesting {}'.format(url))\n",
    "    response = urllib.request.urlopen(request)\n",
    "    return response.read()"
   ]
  },
  {
   "cell_type": "code",
   "execution_count": null,
   "id": "save-video",
   "metadata": {},
   "outputs": [],
   "source": [
    "def save_video(data, saveto):\n",
    "    with open(saveto, 'wb+') as f:\n",
    "        f.write(data)\n",
    "    time.sleep(random.uniform(0.5, 1.5))"
   ]
  },
  {
   "cell_type": "code",
   "execution_count": null,
   "id": "download-methods",
   "metadata": {},
   "outputs": [],
   "source": [
    "def download_youtube(url, dirname, video_id):\n",
    "    raise NotImplementedError(\"Urllib cannot deal with YouTube links.\")\n",
    "\n",
    "def download_aslpro(url, dirname, video_id):\n",
    "    saveto = os.path.join(dirname, '{}.swf'.format(video_id))\n",
    "    if os.path.exists(saveto):\n",
    "        logging.info('{} exists at {}'.format(video_id, saveto))\n",
    "        return\n",
    "    data = request_video(url, referer='http://www.aslpro.com/cgi-bin/aslpro/aslpro.cgi')\n",
    "    save_video(data, saveto)"
   ]
  },
  {
   "cell_type": "code",
   "execution_count": null,
   "id": "download-non-yt-videos",
   "metadata": {},
   "outputs": [],
   "source": [
    "def download_nonyt_videos(indexfile, saveto='raw_videos'):\n",
    "    content = json.load(open(indexfile))\n",
    "    if not os.path.exists(saveto):\n",
    "        os.mkdir(saveto)\n",
    "    for entry in content:\n",
    "        gloss = entry['gloss']\n",
    "        instances = entry['instances']\n",
    "        for inst in instances:\n",
    "            video_url = inst['url']\n",
    "            video_id = inst['video_id']\n",
    "            logging.info('gloss: {}, video: {}.'.format(gloss, video_id))\n",
    "            try:\n",
    "                data = request_video(video_url)\n",
    "                save_video(data, os.path.join(saveto, '{}.mp4'.format(video_id)))\n",
    "            except Exception as e:\n",
    "                logging.error('Failed to download video: {}'.format(video_id))"
   ]
  },
  {
   "cell_type": "code",
   "execution_count": null,
   "id": "download-youtube-videos",
   "metadata": {},
   "outputs": [],
   "source": [
    "def check_youtube_dl_version():\n",
    "    ver = os.popen(f'{youtube_downloader} --version').read()\n",
    "    assert ver, f\"{youtube_downloader} cannot be found in PATH. Please verify your installation.\"\n",
    "\n",
    "def download_yt_videos(indexfile, saveto='raw_videos'):\n",
    "    content = json.load(open(indexfile))\n",
    "    if not os.path.exists(saveto):\n",
    "        os.mkdir(saveto)\n",
    "    for entry in content:\n",
    "        gloss = entry['gloss']\n",
    "        instances = entry['instances']\n",
    "        for inst in instances:\n",
    "            video_url = inst['url']\n",
    "            video_id = inst['video_id']\n",
    "            if 'youtube' not in video_url and 'youtu.be' not in video_url:\n",
    "                continue\n",
    "            cmd = f\"{youtube_downloader} '{video_url}' -o '{saveto}/%(id)s.%(ext)s'\"\n",
    "            rv = os.system(cmd)\n",
    "            if not rv:\n",
    "                logging.info(f'Finished downloading: {video_url}')\n",
    "            else:\n",
    "                logging.error(f'Failed downloading: {video_url}')\n",
    "            time.sleep(random.uniform(1.0, 1.5))"
   ]
  },
  {
   "cell_type": "code",
   "execution_count": null,
   "id": "main-execution",
   "metadata": {},
   "outputs": [],
   "source": [
    "if __name__ == '__main__':\n",
    "    logging.info('Start downloading non-YouTube videos.')\n",
    "    download_nonyt_videos('WLASL_v0.3.json')"
   ]
  },
  {
   "cell_type": "code",
   "execution_count": null,
   "metadata": {},
   "outputs": [],
   "source": [
    "check_youtube_dl_version()\n",
    "logging.info('Start downloading YouTube videos.')\n",
    "download_yt_videos('WLASL_v0.3.json')"
   ]
  },
  {
   "cell_type": "code",
   "execution_count": null,
   "metadata": {},
   "outputs": [],
   "source": [
    "# Get the list of filenames in the 'videos' directory\n",
    "filenames = set(os.listdir('raw_videos'))\n",
    "\n",
    "# Load JSON content from the file\n",
    "with open('WLASL_v0.3.json', 'r') as json_file:\n",
    "    content = json.load(json_file)\n",
    "\n",
    "missing_ids = []\n",
    "\n",
    "# Iterate over each entry and its instances\n",
    "for entry in content:\n",
    "    for inst in entry['instances']:\n",
    "        video_id = inst['video_id']\n",
    "        # Check if the corresponding .mp4 file is missing\n",
    "        if video_id + '.mp4' not in filenames:\n",
    "            missing_ids.append(video_id)\n",
    "\n",
    "# Save the missing video IDs in 'missing.txt'\n",
    "with open('missing.txt', 'w') as f:\n",
    "    f.write('\\n'.join(missing_ids))"
   ]
  }
 ],
 "metadata": {
  "kernelspec": {
   "display_name": "asl_detection",
   "language": "python",
   "name": "python3"
  },
  "language_info": {
   "codemirror_mode": {
    "name": "ipython",
    "version": 3
   },
   "file_extension": ".py",
   "mimetype": "text/x-python",
   "name": "python",
   "nbconvert_exporter": "python",
   "pygments_lexer": "ipython3",
   "version": "3.10.16"
  }
 },
 "nbformat": 4,
 "nbformat_minor": 4
}
