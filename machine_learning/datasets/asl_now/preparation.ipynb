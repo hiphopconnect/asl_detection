{
 "cells": [
  {
   "cell_type": "code",
   "execution_count": 2,
   "metadata": {
    "metadata": {}
   },
   "outputs": [
    {
     "name": "stderr",
     "output_type": "stream",
     "text": [
      "/home/geiger/.local/lib/python3.10/site-packages/tqdm/auto.py:21: TqdmWarning: IProgress not found. Please update jupyter and ipywidgets. See https://ipywidgets.readthedocs.io/en/stable/user_install.html\n",
      "  from .autonotebook import tqdm as notebook_tqdm\n",
      "Downloading data: 100%|██████████| 2122/2122 [00:38<00:00, 54.77files/s]\n",
      "Generating train split: 100%|██████████| 44562/44562 [00:04<00:00, 9774.13 examples/s] \n"
     ]
    },
    {
     "name": "stdout",
     "output_type": "stream",
     "text": [
      "DatasetDict({\n",
      "    train: Dataset({\n",
      "        features: ['x', 'y', 'z'],\n",
      "        num_rows: 44562\n",
      "    })\n",
      "})\n",
      "{'x': 0.725996315479278, 'y': 0.584782898426055, 'z': -4.448750701158133e-07}\n"
     ]
    }
   ],
   "source": [
    "from datasets import load_dataset\n",
    "\n",
    "# Datensatz laden\n",
    "dataset = load_dataset(\"sid220/asl-now-fingerspelling\")\n",
    "\n",
    "# Beispielhafte Ausgabe des ersten Eintrags\n",
    "print(dataset)\n",
    "print(dataset['train'][0])\n"
   ]
  }
 ],
 "metadata": {
  "kernelspec": {
   "display_name": "asl_detection_mediapipe",
   "language": "python",
   "name": "python3"
  },
  "language_info": {
   "codemirror_mode": {
    "name": "ipython",
    "version": 3
   },
   "file_extension": ".py",
   "mimetype": "text/x-python",
   "name": "python",
   "nbconvert_exporter": "python",
   "pygments_lexer": "ipython3",
   "version": "3.10.16"
  }
 },
 "nbformat": 4,
 "nbformat_minor": 2
}
