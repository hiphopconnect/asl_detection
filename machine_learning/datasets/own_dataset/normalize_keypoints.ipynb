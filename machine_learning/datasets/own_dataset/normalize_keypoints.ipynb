{
 "cells": [
  {
   "cell_type": "code",
   "execution_count": null,
   "metadata": {},
   "outputs": [],
   "source": [
    "import os\n",
    "import numpy as np\n",
    "\n",
    "# Define directories\n",
    "TRAINING_DIR = \"path/to/your/training_data\"\n",
    "NORMALIZED_DIR = \"path/to/your/normalized_data\"\n",
    "\n",
    "# Ensure the target directory exists\n",
    "os.makedirs(NORMALIZED_DIR, exist_ok=True)"
   ]
  },
  {
   "cell_type": "code",
   "execution_count": null,
   "metadata": {},
   "outputs": [],
   "source": [
    "# List all npy files in the training directory\n",
    "npy_files = [f for f in os.listdir(TRAINING_DIR) if f.endswith(\".npy\")]\n",
    "\n",
    "# Initialize min and max values\n",
    "all_keypoints = []\n",
    "\n",
    "# Load all data and store in a list\n",
    "for file in npy_files:\n",
    "    data = np.load(os.path.join(TRAINING_DIR, file))\n",
    "    all_keypoints.append(data)\n",
    "\n",
    "# Convert to a large NumPy array\n",
    "all_keypoints = np.vstack(all_keypoints)  # If keypoints are stored sequentially\n",
    "\n",
    "# Compute min and max values for scaling\n",
    "global_min = np.min(all_keypoints, axis=0)\n",
    "global_max = np.max(all_keypoints, axis=0)\n",
    "\n",
    "print(\"Global Min:\", global_min)\n",
    "print(\"Global Max:\", global_max)\n",
    "\n",
    "# Save the min/max values for later use\n",
    "np.save(os.path.join(NORMALIZED_DIR, \"keypoint_min.npy\"), global_min)\n",
    "np.save(os.path.join(NORMALIZED_DIR, \"keypoint_max.npy\"), global_max)"
   ]
  },
  {
   "cell_type": "code",
   "execution_count": null,
   "metadata": {},
   "outputs": [],
   "source": [
    "def normalize_keypoints(keypoints, min_vals, max_vals):\n",
    "    return (keypoints - min_vals) / (max_vals - min_vals + 1e-8)  # Avoid division by zero\n",
    "\n",
    "# Iterate over all npy files and save normalized data\n",
    "for file in npy_files:\n",
    "    data = np.load(os.path.join(TRAINING_DIR, file))\n",
    "    normalized_data = normalize_keypoints(data, global_min, global_max)\n",
    "\n",
    "    # Save the normalized file\n",
    "    save_path = os.path.join(NORMALIZED_DIR, file)\n",
    "    np.save(save_path, normalized_data)\n",
    "\n",
    "print(f\"All {len(npy_files)} files successfully normalized and saved.\")"
   ]
  }
 ],
 "metadata": {
  "kernelspec": {
   "display_name": ".venv",
   "language": "python",
   "name": "python3"
  },
  "language_info": {
   "codemirror_mode": {
    "name": "ipython",
    "version": 3
   },
   "file_extension": ".py",
   "mimetype": "text/x-python",
   "name": "python",
   "nbconvert_exporter": "python",
   "pygments_lexer": "ipython3",
   "version": "3.12.8"
  }
 },
 "nbformat": 4,
 "nbformat_minor": 2
}
