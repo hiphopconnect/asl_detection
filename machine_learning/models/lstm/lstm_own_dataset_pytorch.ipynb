{
 "cells": [
  {
   "cell_type": "markdown",
   "metadata": {},
   "source": [
    "# Training notebook"
   ]
  },
  {
   "cell_type": "code",
   "execution_count": null,
   "metadata": {},
   "outputs": [],
   "source": [
    "import torch\n",
    "import torch.nn as nn\n",
    "import torch.optim as optim\n",
    "from torch.utils.data import Dataset, DataLoader\n",
    "import os\n",
    "import numpy as np\n",
    "from glob import glob\n",
    "from collections import defaultdict"
   ]
  },
  {
   "cell_type": "code",
   "execution_count": null,
   "metadata": {},
   "outputs": [],
   "source": [
    "# --- 1. Prepare Data ---\n",
    "class KeypointDataset(Dataset):\n",
    "    def __init__(self, data_dir):\n",
    "        self.files = glob(os.path.join(data_dir, \"*.npy\"))  # Assuming data is stored as .npy files\n",
    "        self.labels = [os.path.basename(f).split(\"_\")[1] for f in self.files]  # Extract label from filename\n",
    "        self.label_dict = {label: idx for idx, label in enumerate(sorted(set(self.labels)))}  # Create label mapping\n",
    "\n",
    "    def __len__(self):\n",
    "        return len(self.files)\n",
    "\n",
    "    def __getitem__(self, idx):\n",
    "        keypoints = np.load(self.files[idx])\n",
    "        keypoints = torch.tensor(keypoints, dtype=torch.float32)\n",
    "        label = self.label_dict[self.labels[idx]]\n",
    "        return keypoints, torch.tensor(label, dtype=torch.long)"
   ]
  },
  {
   "cell_type": "code",
   "execution_count": null,
   "metadata": {},
   "outputs": [],
   "source": [
    "# --- 2. Create DataLoader ---\n",
    "data_dir = \"/home/haggenmueller/asl_detection/machine_learning/datasets/own_dataset/keypoints_gpu\"\n",
    "dataset = KeypointDataset(data_dir)\n",
    "dataloader = DataLoader(dataset, batch_size=16, shuffle=True)"
   ]
  },
  {
   "cell_type": "code",
   "execution_count": null,
   "metadata": {},
   "outputs": [],
   "source": [
    "# --- 3. Define LSTM Model ---\n",
    "class LSTMModel(nn.Module):\n",
    "    def __init__(self, input_dim, hidden_dim, output_dim, num_layers=3):\n",
    "        super(LSTMModel, self).__init__()\n",
    "        self.lstm = nn.LSTM(input_dim, hidden_dim, num_layers, batch_first=True, dropout=0.2)\n",
    "        self.fc = nn.Linear(hidden_dim, output_dim)\n",
    "    \n",
    "    def forward(self, x):\n",
    "        lstm_out, _ = self.lstm(x)\n",
    "        logits = self.fc(lstm_out.mean(dim=1))  # Average over all frames\n",
    "        return torch.log_softmax(logits, dim=1)  # Log-softmax for stable gradients\n",
    "\n",
    "# Model parameters\n",
    "input_dim = dataset[0][0].shape[1]\n",
    "hidden_dim = 256\n",
    "output_dim = len(dataset.label_dict)\n",
    "\n",
    "device = torch.device(\"cuda\" if torch.cuda.is_available() else \"cpu\")\n",
    "model = LSTMModel(input_dim, hidden_dim, output_dim).to(device)"
   ]
  },
  {
   "cell_type": "code",
   "execution_count": null,
   "metadata": {},
   "outputs": [],
   "source": [
    "# --- 4. Training & Validation with Early Stopping ---\n",
    "criterion = nn.NLLLoss()  # Negative Log-Likelihood Loss\n",
    "optimizer = optim.Adam(model.parameters(), lr=0.0003, weight_decay=1e-5)\n",
    "\n",
    "def train_model(model, dataloader, criterion, optimizer, epochs=150, patience=10):\n",
    "    model.train()\n",
    "    best_loss = float(\"inf\")\n",
    "    epochs_no_improve = 0\n",
    "    \n",
    "    for epoch in range(epochs):\n",
    "        running_loss = 0.0\n",
    "        correct = 0\n",
    "        total = 0\n",
    "        \n",
    "        for keypoints, labels in dataloader:\n",
    "            keypoints, labels = keypoints.to(device), labels.to(device)\n",
    "            optimizer.zero_grad()\n",
    "            outputs = model(keypoints)\n",
    "            loss = criterion(outputs, labels)\n",
    "            loss.backward()\n",
    "            optimizer.step()\n",
    "            running_loss += loss.item()\n",
    "            _, predicted = torch.max(outputs, 1)\n",
    "            correct += (predicted == labels).sum().item()\n",
    "            total += labels.size(0)\n",
    "        \n",
    "        epoch_loss = running_loss / len(dataloader)\n",
    "        epoch_accuracy = 100 * correct / total\n",
    "        print(f\"📌 Epoch {epoch+1}/{epochs} - Loss: {epoch_loss:.4f} - Accuracy: {epoch_accuracy:.2f}%\")\n",
    "        \n",
    "        # Early Stopping Check\n",
    "        if epoch_loss < best_loss:\n",
    "            best_loss = epoch_loss\n",
    "            epochs_no_improve = 0\n",
    "            torch.save(model.state_dict(), \"best_lstm_model.pth\")  # Save best model\n",
    "        else:\n",
    "            epochs_no_improve += 1\n",
    "            if epochs_no_improve >= patience:\n",
    "                print(f\"🛑 Training stopped after {epoch+1} epochs due to no improvement.\")\n",
    "                break\n",
    "\n",
    "train_model(model, dataloader, criterion, optimizer)"
   ]
  },
  {
   "cell_type": "code",
   "execution_count": null,
   "metadata": {},
   "outputs": [],
   "source": [
    "import numpy as np\n",
    "import matplotlib.pyplot as plt\n",
    "import seaborn as sns\n",
    "from sklearn.metrics import confusion_matrix\n",
    "\n",
    "# --- Compute Confusion Matrix ---\n",
    "conf_matrix = confusion_matrix(true_labels, predictions, labels=sorted(dataset.label_dict.values()))\n",
    "\n",
    "# --- Zeige nur Labels mit mindestens 3 Fehlklassifikationen ---\n",
    "misclassified_counts = (conf_matrix - np.eye(conf_matrix.shape[0]) * conf_matrix).sum(axis=0)\n",
    "top_misclassified = np.where(misclassified_counts >= 3)[0]  # Nur Labels mit mind. 3 Fehlern\n",
    "\n",
    "if len(top_misclassified) > 0:\n",
    "    conf_matrix_filtered = conf_matrix[top_misclassified][:, top_misclassified]\n",
    "    \n",
    "    plt.figure(figsize=(10, 8))\n",
    "    sns.heatmap(conf_matrix_filtered, annot=True, fmt=\"d\", cmap=\"Blues\",\n",
    "                xticklabels=top_misclassified, yticklabels=top_misclassified)\n",
    "    plt.xlabel(\"Predicted Label\")\n",
    "    plt.ylabel(\"True Label\")\n",
    "    plt.title(\"Labels with at least 3 Misclassifications\")\n",
    "    plt.show()\n",
    "else:\n",
    "    print(\"No labels with at least 3 misclassifications.\")"
   ]
  },
  {
   "cell_type": "code",
   "execution_count": 1,
   "metadata": {},
   "outputs": [
    {
     "name": "stdout",
     "output_type": "stream",
     "text": [
      "✅ label_to_index.json updated with 209 labels.\n"
     ]
    }
   ],
   "source": [
    "import os\n",
    "import json\n",
    "from glob import glob\n",
    "\n",
    "# --- Define paths ---\n",
    "data_dir = \"/home/haggenmueller/asl_detection/machine_learning/datasets/own_dataset/keypoints_gpu\"\n",
    "label_json_path = \"/home/haggenmueller/asl_detection/machine_learning/models/lstm/label_to_index.json\"\n",
    "\n",
    "# --- Extract labels from filenames ---\n",
    "def extract_label(file_name):\n",
    "    parts = file_name.split(\"_\")\n",
    "    if len(parts) >= 3:\n",
    "        return parts[1]  # Label is the second element\n",
    "    return None\n",
    "\n",
    "# --- Load existing labels if available ---\n",
    "if os.path.exists(label_json_path):\n",
    "    with open(label_json_path, \"r\") as f:\n",
    "        label_to_index = json.load(f)\n",
    "else:\n",
    "    label_to_index = {}\n",
    "\n",
    "# --- Get all files and extract labels ---\n",
    "keypoint_files = glob(os.path.join(data_dir, \"*.npy\"))\n",
    "extracted_labels = sorted(set(extract_label(os.path.basename(f)) for f in keypoint_files if extract_label(os.path.basename(f)) is not None))\n",
    "\n",
    "# --- Update label_to_index mapping ---\n",
    "updated_label_to_index = {label: idx for idx, label in enumerate(extracted_labels)}\n",
    "\n",
    "# --- Save updated JSON ---\n",
    "with open(label_json_path, \"w\") as f:\n",
    "    json.dump(updated_label_to_index, f, indent=4)\n",
    "\n",
    "print(f\"✅ label_to_index.json updated with {len(updated_label_to_index)} labels.\")"
   ]
  }
 ],
 "metadata": {
  "kernelspec": {
   "display_name": "Python 3",
   "language": "python",
   "name": "python3"
  },
  "language_info": {
   "codemirror_mode": {
    "name": "ipython",
    "version": 3
   },
   "file_extension": ".py",
   "mimetype": "text/x-python",
   "name": "python",
   "nbconvert_exporter": "python",
   "pygments_lexer": "ipython3",
   "version": "3.10.16"
  }
 },
 "nbformat": 4,
 "nbformat_minor": 2
}
