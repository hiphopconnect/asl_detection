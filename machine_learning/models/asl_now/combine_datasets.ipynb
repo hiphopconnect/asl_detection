{
 "cells": [
  {
   "cell_type": "code",
   "execution_count": 1,
   "metadata": {},
   "outputs": [
    {
     "name": "stdout",
     "output_type": "stream",
     "text": [
      "Zusammenführen abgeschlossen!\n"
     ]
    }
   ],
   "source": [
    "import os\n",
    "import shutil\n",
    "\n",
    "# Pfade zu den drei Quellordnern\n",
    "source_dirs = [\"/workspaces/asl_detection/machine_learning/datasets/asl_now/Dataset_1\", \"/workspaces/asl_detection/machine_learning/datasets/asl_now/Dataset_2\", \"/workspaces/asl_detection/machine_learning/datasets/asl_now/Dataset_3\"]\n",
    "# Zielordner\n",
    "destination_dir = \"/workspaces/asl_detection/machine_learning/datasets/asl_now/Combined_Dataset\"\n",
    "\n",
    "import os\n",
    "import shutil\n",
    "\n",
    "def merge_folders(source_dirs, destination_dir):\n",
    "    os.makedirs(destination_dir, exist_ok=True)\n",
    "    letters = [chr(i) for i in range(ord('A'), ord('Z') + 1) if chr(i) != 'J']\n",
    "    \n",
    "    for letter in letters:\n",
    "        target_folder = os.path.join(destination_dir, letter)\n",
    "        os.makedirs(target_folder, exist_ok=True)\n",
    "        \n",
    "        frame_counter = 0\n",
    "        \n",
    "        for source_dir in source_dirs:\n",
    "            source_folder = os.path.join(source_dir, letter)\n",
    "            if os.path.exists(source_folder):\n",
    "                frames = sorted(os.listdir(source_folder))\n",
    "                \n",
    "                for frame in frames:\n",
    "                    frame_extension = os.path.splitext(frame)[1]\n",
    "                    new_frame_name = f\"{frame_counter}{frame_extension}\"\n",
    "                    frame_counter += 1\n",
    "                    \n",
    "                    source_path = os.path.join(source_folder, frame)\n",
    "                    destination_path = os.path.join(target_folder, new_frame_name)\n",
    "                    shutil.copy2(source_path, destination_path)\n",
    "\n",
    "source_dirs = [\"/workspaces/asl_detection/machine_learning/datasets/asl_now/Dataset_1\", \"/workspaces/asl_detection/machine_learning/datasets/asl_now/Dataset_2\", \"/workspaces/asl_detection/machine_learning/datasets/asl_now/Dataset_3\"]\n",
    "destination_dir = \"/workspaces/asl_detection/machine_learning/datasets/asl_now/Combined_Dataset\"\n",
    "merge_folders(source_dirs, destination_dir)\n"
   ]
  }
 ],
 "metadata": {
  "kernelspec": {
   "display_name": "showcase-H-MG0u5T-py3.12",
   "language": "python",
   "name": "python3"
  },
  "language_info": {
   "codemirror_mode": {
    "name": "ipython",
    "version": 3
   },
   "file_extension": ".py",
   "mimetype": "text/x-python",
   "name": "python",
   "nbconvert_exporter": "python",
   "pygments_lexer": "ipython3",
   "version": "3.12.8"
  }
 },
 "nbformat": 4,
 "nbformat_minor": 2
}
