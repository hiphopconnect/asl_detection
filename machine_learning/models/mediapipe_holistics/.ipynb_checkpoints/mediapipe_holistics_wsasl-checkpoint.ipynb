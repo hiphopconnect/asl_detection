{
 "cells": [
  {
   "cell_type": "markdown",
   "id": "b96cf9a9",
   "metadata": {},
   "source": [
    "# Mediapipe Holistic Keypoints Extraction"
   ]
  },
  {
   "cell_type": "code",
   "execution_count": null,
   "id": "a9af39e1",
   "metadata": {},
   "outputs": [],
   "source": [
    "import os\n",
    "import json\n",
    "import cv2\n",
    "import time\n",
    "import random\n",
    "import mediapipe as mp"
   ]
  },
  {
   "cell_type": "code",
   "execution_count": null,
   "metadata": {},
   "outputs": [],
   "source": [
    "# Initialize Mediapipe Holistic\n",
    "mp_holistic = mp.solutions.holistic\n",
    "mp_drawing = mp.solutions.drawing_utils"
   ]
  },
  {
   "cell_type": "code",
   "execution_count": null,
   "metadata": {},
   "outputs": [],
   "source": [
    "def process_video(video_path):\n",
    "    keypoints_all = []\n",
    "    cap = cv2.VideoCapture(video_path)\n",
    "    with mp_holistic.Holistic(static_image_mode=False,\n",
    "                              min_detection_confidence=0.5,\n",
    "                              min_tracking_confidence=0.5) as holistic:\n",
    "        while cap.isOpened():\n",
    "            ret, frame = cap.read()\n",
    "            if not ret:\n",
    "                break\n",
    "            image = cv2.cvtColor(frame, cv2.COLOR_BGR2RGB)\n",
    "            results = holistic.process(image)\n",
    "            frame_keypoints = {}\n",
    "\n",
    "            # Pose keypoints\n",
    "            if results.pose_landmarks:\n",
    "                frame_keypoints['pose'] = [\n",
    "                    [lm.x, lm.y, lm.z, lm.visibility] for lm in results.pose_landmarks.landmark\n",
    "                ]\n",
    "            else:\n",
    "                frame_keypoints['pose'] = None\n",
    "\n",
    "            # Face keypoints\n",
    "            if results.face_landmarks:\n",
    "                frame_keypoints['face'] = [\n",
    "                    [lm.x, lm.y, lm.z] for lm in results.face_landmarks.landmark\n",
    "                ]\n",
    "            else:\n",
    "                frame_keypoints['face'] = None\n",
    "\n",
    "            # Left hand keypoints\n",
    "            if results.left_hand_landmarks:\n",
    "                frame_keypoints['left_hand'] = [\n",
    "                    [lm.x, lm.y, lm.z] for lm in results.left_hand_landmarks.landmark\n",
    "                ]\n",
    "            else:\n",
    "                frame_keypoints['left_hand'] = None\n",
    "\n",
    "            # Right hand keypoints\n",
    "            if results.right_hand_landmarks:\n",
    "                frame_keypoints['right_hand'] = [\n",
    "                    [lm.x, lm.y, lm.z] for lm in results.right_hand_landmarks.landmark\n",
    "                ]\n",
    "            else:\n",
    "                frame_keypoints['right_hand'] = None\n",
    "\n",
    "            keypoints_all.append(frame_keypoints)\n",
    "            time.sleep(random.uniform(0.01, 0.02))\n",
    "    cap.release()\n",
    "    return keypoints_all"
   ]
  },
  {
   "cell_type": "code",
   "execution_count": null,
   "metadata": {},
   "outputs": [],
   "source": [
    "base_path = '/home/haggenmueller/asl_detection'\n",
    "labels_file = f'{base_path}/machine_learning/datasets/wlasl/WLASL_v0.3.json'\n",
    "videos_folder = f'{base_path}/machine_learning/datasets/wlasl/raw_videos'\n",
    "output_folder = f'{base_path}/machine_learning/datasets/wlasl/keypoints'"
   ]
  },
  {
   "cell_type": "code",
   "execution_count": null,
   "metadata": {},
   "outputs": [],
   "source": [
    "if not os.path.exists(videos_folder):\n",
    "    print(f\"Videos folder '{videos_folder}' does not exist!\")\n",
    "else:\n",
    "    if not os.path.exists(output_folder):\n",
    "        os.makedirs(output_folder)\n",
    "\n",
    "    # Load labels\n",
    "    with open(labels_file, 'r') as f:\n",
    "        data_labels = json.load(f)\n",
    "\n",
    "    # Process each entry in the label JSON\n",
    "    for entry in data_labels:\n",
    "        gloss = entry.get('gloss')\n",
    "        instances = entry.get('instances', [])\n",
    "        for inst in instances:\n",
    "            video_id = inst.get('video_id')\n",
    "            # Local filename: video_id.mp4\n",
    "            video_filename = f\"{video_id}.mp4\"\n",
    "            video_path = os.path.join(videos_folder, video_filename)\n",
    "            if not os.path.exists(video_path):\n",
    "                print(f\"Video {video_filename} not found.\")\n",
    "                continue\n",
    "\n",
    "            output_path = os.path.join(output_folder, f\"{gloss}_{video_id}.json\")\n",
    "            if os.path.exists(output_path):\n",
    "                print(f\"JSON for {video_filename} already exists. Skipping.\")\n",
    "                continue\n",
    "\n",
    "            print(f\"Processing {video_filename}\")\n",
    "            keypoints = process_video(video_path)\n",
    "\n",
    "            output_data = {\n",
    "                \"gloss\": gloss,\n",
    "                \"video_id\": video_id,\n",
    "                \"keypoints\": keypoints\n",
    "            }\n",
    "            with open(output_path, 'w') as f:\n",
    "                json.dump(output_data, f)\n",
    "            print(f\"Saved keypoints to {output_path}\")"
   ]
  }
 ],
 "metadata": {
  "kernelspec": {
   "display_name": "Python 3",
   "language": "python",
   "name": "python3"
  },
  "language_info": {
   "codemirror_mode": {
    "name": "ipython",
    "version": 3
   },
   "file_extension": ".py",
   "mimetype": "text/x-python",
   "name": "python",
   "nbconvert_exporter": "python",
   "pygments_lexer": "ipython3",
   "version": "3.10.16"
  }
 },
 "nbformat": 4,
 "nbformat_minor": 2
}
